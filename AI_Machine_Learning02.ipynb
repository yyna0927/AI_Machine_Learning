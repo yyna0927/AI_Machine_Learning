{
  "nbformat": 4,
  "nbformat_minor": 0,
  "metadata": {
    "colab": {
      "provenance": [],
      "collapsed_sections": []
    },
    "kernelspec": {
      "name": "python3",
      "display_name": "Python 3"
    },
    "language_info": {
      "name": "python"
    }
  },
  "cells": [
    {
      "cell_type": "markdown",
      "source": [
        "<h2>AI 머신러닝 기초 02"
      ],
      "metadata": {
        "id": "N_nnnkidn6WG"
      }
    },
    {
      "cell_type": "code",
      "execution_count": null,
      "metadata": {
        "id": "HbWo2flKn3IH"
      },
      "outputs": [],
      "source": [
        "#물고기의 길이와 무게 데이터(도미, 빙어 데이터를 합친 것)\n",
        "\n",
        "fish_length = [25.4, 26.3, 26.5, 29.0, 29.0, 29.7, 29.7, 30.0, 30.0, 30.7, 31.0, 31.0, \n",
        "                31.5, 32.0, 32.0, 32.0, 33.0, 33.0, 33.5, 33.5, 34.0, 34.0, 34.5, 35.0, \n",
        "                35.0, 35.0, 35.0, 36.0, 36.0, 37.0, 38.5, 38.5, 39.5, 41.0, 41.0, 9.8, \n",
        "                10.5, 10.6, 11.0, 11.2, 11.3, 11.8, 11.8, 12.0, 12.2, 12.4, 13.0, 14.3, 15.0]\n",
        "fish_weight = [242.0, 290.0, 340.0, 363.0, 430.0, 450.0, 500.0, 390.0, 450.0, 500.0, 475.0, 500.0, \n",
        "                500.0, 340.0, 600.0, 600.0, 700.0, 700.0, 610.0, 650.0, 575.0, 685.0, 620.0, 680.0, \n",
        "                700.0, 725.0, 720.0, 714.0, 850.0, 1000.0, 920.0, 955.0, 925.0, 975.0, 950.0, 6.7, \n",
        "                7.5, 7.0, 9.7, 9.8, 8.7, 10.0, 9.9, 9.8, 12.2, 13.4, 12.2, 19.7, 19.9]\n",
        "fish_data = [[l, w] for l, w in zip(fish_length, fish_weight)] #2차원 리스트 만들기\n",
        "fish_target = [1]*35 + [0]*14      #정답 데이터 만들기          "
      ]
    },
    {
      "cell_type": "code",
      "source": [
        "#k-최근접 이웃 알고리즘 사용하기\n",
        "\n",
        "from sklearn.neighbors import KNeighborsClassifier\n",
        "kn= KNeighborsClassifier()"
      ],
      "metadata": {
        "id": "cLNyagxOodHK"
      },
      "execution_count": null,
      "outputs": []
    },
    {
      "cell_type": "markdown",
      "source": [
        "<h3>슬라이싱"
      ],
      "metadata": {
        "id": "BCH9SwZnondy"
      }
    },
    {
      "cell_type": "code",
      "source": [
        "#n번째 샘플 가져오기=> 변수명[n-1]\n",
        "\n",
        "print(fish_data[4]) #다섯 번째 샘플을 가져오기 "
      ],
      "metadata": {
        "colab": {
          "base_uri": "https://localhost:8080/"
        },
        "id": "WzXLDsWCodUa",
        "outputId": "9c097c9c-a842-48ef-8cfc-04422b3d4c43"
      },
      "execution_count": null,
      "outputs": [
        {
          "output_type": "stream",
          "name": "stdout",
          "text": [
            "[29.0, 430.0]\n"
          ]
        }
      ]
    },
    {
      "cell_type": "code",
      "source": [
        "#컴퓨터 상으로는 0번부터 시작한다.그래서 우리에게 1이 컴퓨터로는 0이다.\n",
        "\n",
        "print(fish_data[0])"
      ],
      "metadata": {
        "colab": {
          "base_uri": "https://localhost:8080/"
        },
        "id": "Mu4RNev7p3Qi",
        "outputId": "41d21762-55cb-42d1-ef81-492a91251890"
      },
      "execution_count": null,
      "outputs": [
        {
          "output_type": "stream",
          "name": "stdout",
          "text": [
            "[25.4, 242.0]\n"
          ]
        }
      ]
    },
    {
      "cell_type": "code",
      "source": [
        "#인덱스로 0번째부터 4번째 출력하기\n",
        "#:(콜론)을 사용하여 구분한다. 처음부터 값을 가져오는 거면 콜론 앞에 숫자를 안 적어줘도 된다.\n",
        "\n",
        "print(fish_data[:5])"
      ],
      "metadata": {
        "colab": {
          "base_uri": "https://localhost:8080/"
        },
        "id": "ox8R1NgUok7z",
        "outputId": "159b2c8d-92c8-4e01-baf6-64c0b2308eeb"
      },
      "execution_count": null,
      "outputs": [
        {
          "output_type": "stream",
          "name": "stdout",
          "text": [
            "[[25.4, 242.0], [26.3, 290.0], [26.5, 340.0], [29.0, 363.0], [29.0, 430.0]]\n"
          ]
        }
      ]
    },
    {
      "cell_type": "code",
      "source": [
        "#44번부터 끝까지 출력한다. 끝까지 출력하기에 콜론 뒤에 숫자를 안 적어도 된다.\n",
        "\n",
        "print(fish_data[44:])"
      ],
      "metadata": {
        "colab": {
          "base_uri": "https://localhost:8080/"
        },
        "id": "PcA6gH3Xok-7",
        "outputId": "6073ab5e-762f-4673-d185-a9327ea1b59e"
      },
      "execution_count": null,
      "outputs": [
        {
          "output_type": "stream",
          "name": "stdout",
          "text": [
            "[[12.2, 12.2], [12.4, 13.4], [13.0, 12.2], [14.3, 19.7], [15.0, 19.9]]\n"
          ]
        }
      ]
    },
    {
      "cell_type": "code",
      "source": [
        "#9번부터 20까지 출력한다.\n",
        "\n",
        "print(fish_data[9:21])"
      ],
      "metadata": {
        "colab": {
          "base_uri": "https://localhost:8080/"
        },
        "id": "sv9fV0glpzVV",
        "outputId": "f06be7db-9924-4f6c-fa32-ab3c910da394"
      },
      "execution_count": null,
      "outputs": [
        {
          "output_type": "stream",
          "name": "stdout",
          "text": [
            "[[30.7, 500.0], [31.0, 475.0], [31.0, 500.0], [31.5, 500.0], [32.0, 340.0], [32.0, 600.0], [32.0, 600.0], [33.0, 700.0], [33.0, 700.0], [33.5, 610.0], [33.5, 650.0], [34.0, 575.0]]\n"
          ]
        }
      ]
    },
    {
      "cell_type": "markdown",
      "source": [
        "<h2>훈련세트, 테스트세트\n",
        "\n",
        "\n",
        "  * 훈련세트, 테스트세트로 나누는 이유 : 영역을 구분하고 얼마나 일반화가 되었는 지를 측정하기 위함이다."
      ],
      "metadata": {
        "id": "9iHagub8qo7S"
      }
    },
    {
      "cell_type": "code",
      "source": [
        "#훈련세트(=훈련데이터)\n",
        "\n",
        "train_input=fish_data[:35]\n",
        "train_target=fish_target[:35]"
      ],
      "metadata": {
        "id": "R_-1ANAeqL8w"
      },
      "execution_count": null,
      "outputs": []
    },
    {
      "cell_type": "code",
      "source": [
        "#테스트세트(=테스트데이터)\n",
        "\n",
        "test_input=fish_data[35:]\n",
        "test_target=fish_target[35:]"
      ],
      "metadata": {
        "id": "O8STTJ8IqMCt"
      },
      "execution_count": null,
      "outputs": []
    },
    {
      "cell_type": "code",
      "source": [
        "print(train_target)\n",
        "print(test_target)"
      ],
      "metadata": {
        "colab": {
          "base_uri": "https://localhost:8080/"
        },
        "id": "MG1uKalwrjNC",
        "outputId": "4f6dd6b2-b20b-4ea5-d652-26bc9297d885"
      },
      "execution_count": null,
      "outputs": [
        {
          "output_type": "stream",
          "name": "stdout",
          "text": [
            "[1, 1, 1, 1, 1, 1, 1, 1, 1, 1, 1, 1, 1, 1, 1, 1, 1, 1, 1, 1, 1, 1, 1, 1, 1, 1, 1, 1, 1, 1, 1, 1, 1, 1, 1]\n",
            "[0, 0, 0, 0, 0, 0, 0, 0, 0, 0, 0, 0, 0, 0]\n"
          ]
        }
      ]
    },
    {
      "cell_type": "code",
      "source": [
        "#인덱스를 섞어 만든 train_input, train_target을 훈련한다.\n",
        "\n",
        "kn.fit(train_input, train_target) "
      ],
      "metadata": {
        "colab": {
          "base_uri": "https://localhost:8080/"
        },
        "id": "cs-6rueorp2n",
        "outputId": "23b0dcee-ed8e-4ac8-e13a-aa6e76901047"
      },
      "execution_count": null,
      "outputs": [
        {
          "output_type": "execute_result",
          "data": {
            "text/plain": [
              "KNeighborsClassifier()"
            ]
          },
          "metadata": {},
          "execution_count": 14
        }
      ]
    },
    {
      "cell_type": "markdown",
      "source": [
        "<h2>샘플링 편향\n",
        "\n"
      ],
      "metadata": {
        "id": "TO3HvPLDskHr"
      }
    },
    {
      "cell_type": "code",
      "source": [
        "#평가한다.\n",
        "#결과가 0.0이 나왔다는 것은 위에서 샘플링 편향이 발생한 것이다.\n",
        "#테스트 세트에는 14개의 빙어 데이터가 들어있고, 훈련세트에는 도미만 들어있다.\n",
        "#그러면 훈련세트에는 빙어가 없기에 빙어 없이 모델을 훈련하면 빙어를 올바르게 분류할 수 없다.\n",
        "\n",
        "kn.score(test_input, test_target)"
      ],
      "metadata": {
        "colab": {
          "base_uri": "https://localhost:8080/"
        },
        "id": "Fa9ygPKrsQGZ",
        "outputId": "7e048d28-abd1-4094-d0dc-a507b43a4997"
      },
      "execution_count": null,
      "outputs": [
        {
          "output_type": "execute_result",
          "data": {
            "text/plain": [
              "0.0"
            ]
          },
          "metadata": {},
          "execution_count": 16
        }
      ]
    },
    {
      "cell_type": "markdown",
      "source": [
        "<h2>numpy\n",
        "\n",
        "* 자동으로 데이터를 섞어주어 샘플링 편향을 방지한다."
      ],
      "metadata": {
        "id": "YtRDxQ6kt5St"
      }
    },
    {
      "cell_type": "code",
      "source": [
        "#넘파이를 사용하여 데이터를 섞어준다\n",
        "#섞어준 후 훈련, 테스트 세트로 나눠준다.\n",
        "\n",
        "import numpy as np\n",
        "\n",
        "#리스트를 배열로 바꾼다.\n",
        "input_arr=np.array(fish_data)\n",
        "target_arr=np.array(fish_target)"
      ],
      "metadata": {
        "id": "TcZfXRh9t2vY"
      },
      "execution_count": null,
      "outputs": []
    },
    {
      "cell_type": "code",
      "source": [
        "print(input_arr)\n",
        "print(target_arr)"
      ],
      "metadata": {
        "colab": {
          "base_uri": "https://localhost:8080/"
        },
        "id": "SGy4xzMxt22U",
        "outputId": "c9c40aed-76d9-43a9-dffe-786d549e4b82"
      },
      "execution_count": null,
      "outputs": [
        {
          "output_type": "stream",
          "name": "stdout",
          "text": [
            "[[  25.4  242. ]\n",
            " [  26.3  290. ]\n",
            " [  26.5  340. ]\n",
            " [  29.   363. ]\n",
            " [  29.   430. ]\n",
            " [  29.7  450. ]\n",
            " [  29.7  500. ]\n",
            " [  30.   390. ]\n",
            " [  30.   450. ]\n",
            " [  30.7  500. ]\n",
            " [  31.   475. ]\n",
            " [  31.   500. ]\n",
            " [  31.5  500. ]\n",
            " [  32.   340. ]\n",
            " [  32.   600. ]\n",
            " [  32.   600. ]\n",
            " [  33.   700. ]\n",
            " [  33.   700. ]\n",
            " [  33.5  610. ]\n",
            " [  33.5  650. ]\n",
            " [  34.   575. ]\n",
            " [  34.   685. ]\n",
            " [  34.5  620. ]\n",
            " [  35.   680. ]\n",
            " [  35.   700. ]\n",
            " [  35.   725. ]\n",
            " [  35.   720. ]\n",
            " [  36.   714. ]\n",
            " [  36.   850. ]\n",
            " [  37.  1000. ]\n",
            " [  38.5  920. ]\n",
            " [  38.5  955. ]\n",
            " [  39.5  925. ]\n",
            " [  41.   975. ]\n",
            " [  41.   950. ]\n",
            " [   9.8    6.7]\n",
            " [  10.5    7.5]\n",
            " [  10.6    7. ]\n",
            " [  11.     9.7]\n",
            " [  11.2    9.8]\n",
            " [  11.3    8.7]\n",
            " [  11.8   10. ]\n",
            " [  11.8    9.9]\n",
            " [  12.     9.8]\n",
            " [  12.2   12.2]\n",
            " [  12.4   13.4]\n",
            " [  13.    12.2]\n",
            " [  14.3   19.7]\n",
            " [  15.    19.9]]\n",
            "[1 1 1 1 1 1 1 1 1 1 1 1 1 1 1 1 1 1 1 1 1 1 1 1 1 1 1 1 1 1 1 1 1 1 1 0 0\n",
            " 0 0 0 0 0 0 0 0 0 0 0 0]\n"
          ]
        }
      ]
    },
    {
      "cell_type": "code",
      "source": [
        "#0~48까지 나열해준다.각각 인덱스가 부여된다.\n",
        "\n",
        "index=np.arange(49)\n",
        "print(index)"
      ],
      "metadata": {
        "colab": {
          "base_uri": "https://localhost:8080/"
        },
        "id": "6P3Q0wvpumAA",
        "outputId": "fc7a7e77-8b63-4cf2-d04a-84096f7d2db2"
      },
      "execution_count": null,
      "outputs": [
        {
          "output_type": "stream",
          "name": "stdout",
          "text": [
            "[ 0  1  2  3  4  5  6  7  8  9 10 11 12 13 14 15 16 17 18 19 20 21 22 23\n",
            " 24 25 26 27 28 29 30 31 32 33 34 35 36 37 38 39 40 41 42 43 44 45 46 47\n",
            " 48]\n"
          ]
        }
      ]
    },
    {
      "cell_type": "code",
      "source": [
        "#데이터를 섞는 데 매번 다른 위치로 나오기에 42로 시드를 정한다.\n",
        "#shuffle를 사용하여 데이터를 섞는다.\n",
        "\n",
        "np.random.seed(42)\n",
        "np.random.shuffle(index) \n",
        "print(index) #결과를 보면 위에서 나온 결과가 다르다는 것을 볼 수 있다.(데이터가 잘 섞임)"
      ],
      "metadata": {
        "colab": {
          "base_uri": "https://localhost:8080/"
        },
        "id": "reQ2-il6umCt",
        "outputId": "56a24d3d-befb-43df-ff77-1f9223c8e0a5"
      },
      "execution_count": null,
      "outputs": [
        {
          "output_type": "stream",
          "name": "stdout",
          "text": [
            "[ 8 42 28  7 41 32 43  0 36 15 34 17  2 31 44 26 22 18 14  6 19 40 30 21\n",
            " 11 13 20  1 27 29  4 35 45 16 47 23 37 33 10 12 24 46 38  9 25 48  3  5\n",
            " 39]\n"
          ]
        }
      ]
    },
    {
      "cell_type": "code",
      "source": [
        "#훈련세트(입력, 정답), 테스트세트(입력,정답)로 나눈다.\n",
        "\n",
        "train_input=input_arr[index[:35]]\n",
        "train_target=target_arr[index[:35]]\n",
        "\n",
        "test_inpur=input_arr[index[35:]]\n",
        "test_target=target_arr[index[35:]]"
      ],
      "metadata": {
        "id": "V11jDODtumGF"
      },
      "execution_count": null,
      "outputs": []
    },
    {
      "cell_type": "code",
      "source": [
        "#훈력, 평가\n",
        "\n",
        "kn.fit(train_input, train_target)\n",
        "kn.score(test_input, test_target)"
      ],
      "metadata": {
        "colab": {
          "base_uri": "https://localhost:8080/"
        },
        "id": "NsnjNOAeumKV",
        "outputId": "e250cde4-7285-4a1a-a062-b225b6b1357c"
      },
      "execution_count": null,
      "outputs": [
        {
          "output_type": "execute_result",
          "data": {
            "text/plain": [
              "0.35714285714285715"
            ]
          },
          "metadata": {},
          "execution_count": 27
        }
      ]
    },
    {
      "cell_type": "code",
      "source": [
        "kn.predict([[25,150]])"
      ],
      "metadata": {
        "colab": {
          "base_uri": "https://localhost:8080/"
        },
        "id": "PS0UX8Z5umOK",
        "outputId": "ebd53991-035f-49f3-a59a-978b5261f433"
      },
      "execution_count": null,
      "outputs": [
        {
          "output_type": "execute_result",
          "data": {
            "text/plain": [
              "array([0])"
            ]
          },
          "metadata": {},
          "execution_count": 28
        }
      ]
    },
    {
      "cell_type": "markdown",
      "source": [
        "<h2>세로로 만들기"
      ],
      "metadata": {
        "id": "-iVVvlCTxJtQ"
      }
    },
    {
      "cell_type": "code",
      "source": [
        "print(fish_data)\n",
        "fish_data=np.column_stack((fish_length, fish_weight))\n",
        "fish_data"
      ],
      "metadata": {
        "colab": {
          "base_uri": "https://localhost:8080/"
        },
        "id": "BHAe9HH7umRl",
        "outputId": "1330af57-b2d4-4143-da21-535982e2e4f6"
      },
      "execution_count": null,
      "outputs": [
        {
          "output_type": "stream",
          "name": "stdout",
          "text": [
            "[[  25.4  242. ]\n",
            " [  26.3  290. ]\n",
            " [  26.5  340. ]\n",
            " [  29.   363. ]\n",
            " [  29.   430. ]\n",
            " [  29.7  450. ]\n",
            " [  29.7  500. ]\n",
            " [  30.   390. ]\n",
            " [  30.   450. ]\n",
            " [  30.7  500. ]\n",
            " [  31.   475. ]\n",
            " [  31.   500. ]\n",
            " [  31.5  500. ]\n",
            " [  32.   340. ]\n",
            " [  32.   600. ]\n",
            " [  32.   600. ]\n",
            " [  33.   700. ]\n",
            " [  33.   700. ]\n",
            " [  33.5  610. ]\n",
            " [  33.5  650. ]\n",
            " [  34.   575. ]\n",
            " [  34.   685. ]\n",
            " [  34.5  620. ]\n",
            " [  35.   680. ]\n",
            " [  35.   700. ]\n",
            " [  35.   725. ]\n",
            " [  35.   720. ]\n",
            " [  36.   714. ]\n",
            " [  36.   850. ]\n",
            " [  37.  1000. ]\n",
            " [  38.5  920. ]\n",
            " [  38.5  955. ]\n",
            " [  39.5  925. ]\n",
            " [  41.   975. ]\n",
            " [  41.   950. ]\n",
            " [   9.8    6.7]\n",
            " [  10.5    7.5]\n",
            " [  10.6    7. ]\n",
            " [  11.     9.7]\n",
            " [  11.2    9.8]\n",
            " [  11.3    8.7]\n",
            " [  11.8   10. ]\n",
            " [  11.8    9.9]\n",
            " [  12.     9.8]\n",
            " [  12.2   12.2]\n",
            " [  12.4   13.4]\n",
            " [  13.    12.2]\n",
            " [  14.3   19.7]\n",
            " [  15.    19.9]]\n"
          ]
        },
        {
          "output_type": "execute_result",
          "data": {
            "text/plain": [
              "array([[  25.4,  242. ],\n",
              "       [  26.3,  290. ],\n",
              "       [  26.5,  340. ],\n",
              "       [  29. ,  363. ],\n",
              "       [  29. ,  430. ],\n",
              "       [  29.7,  450. ],\n",
              "       [  29.7,  500. ],\n",
              "       [  30. ,  390. ],\n",
              "       [  30. ,  450. ],\n",
              "       [  30.7,  500. ],\n",
              "       [  31. ,  475. ],\n",
              "       [  31. ,  500. ],\n",
              "       [  31.5,  500. ],\n",
              "       [  32. ,  340. ],\n",
              "       [  32. ,  600. ],\n",
              "       [  32. ,  600. ],\n",
              "       [  33. ,  700. ],\n",
              "       [  33. ,  700. ],\n",
              "       [  33.5,  610. ],\n",
              "       [  33.5,  650. ],\n",
              "       [  34. ,  575. ],\n",
              "       [  34. ,  685. ],\n",
              "       [  34.5,  620. ],\n",
              "       [  35. ,  680. ],\n",
              "       [  35. ,  700. ],\n",
              "       [  35. ,  725. ],\n",
              "       [  35. ,  720. ],\n",
              "       [  36. ,  714. ],\n",
              "       [  36. ,  850. ],\n",
              "       [  37. , 1000. ],\n",
              "       [  38.5,  920. ],\n",
              "       [  38.5,  955. ],\n",
              "       [  39.5,  925. ],\n",
              "       [  41. ,  975. ],\n",
              "       [  41. ,  950. ],\n",
              "       [   9.8,    6.7],\n",
              "       [  10.5,    7.5],\n",
              "       [  10.6,    7. ],\n",
              "       [  11. ,    9.7],\n",
              "       [  11.2,    9.8],\n",
              "       [  11.3,    8.7],\n",
              "       [  11.8,   10. ],\n",
              "       [  11.8,    9.9],\n",
              "       [  12. ,    9.8],\n",
              "       [  12.2,   12.2],\n",
              "       [  12.4,   13.4],\n",
              "       [  13. ,   12.2],\n",
              "       [  14.3,   19.7],\n",
              "       [  15. ,   19.9]])"
            ]
          },
          "metadata": {},
          "execution_count": 31
        }
      ]
    },
    {
      "cell_type": "code",
      "source": [
        "#1~35를 1, 나머지 14개를 0으로 준다.\n",
        "\n",
        "fish_target=np.concatenate((np.ones(35),np.zeros(14)))\n",
        "fish_target"
      ],
      "metadata": {
        "colab": {
          "base_uri": "https://localhost:8080/"
        },
        "id": "R6fC0L_Sumc1",
        "outputId": "05860764-7472-4bf2-a49d-ba2075845637"
      },
      "execution_count": null,
      "outputs": [
        {
          "output_type": "execute_result",
          "data": {
            "text/plain": [
              "array([1., 1., 1., 1., 1., 1., 1., 1., 1., 1., 1., 1., 1., 1., 1., 1., 1.,\n",
              "       1., 1., 1., 1., 1., 1., 1., 1., 1., 1., 1., 1., 1., 1., 1., 1., 1.,\n",
              "       1., 0., 0., 0., 0., 0., 0., 0., 0., 0., 0., 0., 0., 0., 0.])"
            ]
          },
          "metadata": {},
          "execution_count": 33
        }
      ]
    },
    {
      "cell_type": "markdown",
      "source": [
        "<h2>데이터 나누기"
      ],
      "metadata": {
        "id": "Z7YF87fyy1UX"
      }
    },
    {
      "cell_type": "code",
      "source": [
        "#train_test_split사용하여 데이터를 나눈다.\n",
        "\n",
        "from sklearn.model_selection import train_test_split\n",
        "\n",
        "train_input, test_input, train_target,test_target=train_test_split(fish_data, fish_target,stratify=fish_target, random_state=42)\n",
        "#위에서 훈련, 테스트 세트로 나누는 것보다 더 간단한 방법이다."
      ],
      "metadata": {
        "id": "LLO8YZF1ytZ4"
      },
      "execution_count": null,
      "outputs": []
    },
    {
      "cell_type": "code",
      "source": [
        "print(train_target)\n",
        "print(test_target)"
      ],
      "metadata": {
        "colab": {
          "base_uri": "https://localhost:8080/"
        },
        "id": "BR5Qr0vuzQXv",
        "outputId": "3c2a8012-36b2-4b5f-c721-30762471cd19"
      },
      "execution_count": null,
      "outputs": [
        {
          "output_type": "stream",
          "name": "stdout",
          "text": [
            "[1. 0. 1. 0. 1. 1. 1. 1. 1. 1. 1. 0. 1. 0. 1. 1. 1. 1. 1. 0. 1. 1. 0. 1.\n",
            " 0. 1. 0. 1. 1. 1. 0. 1. 1. 0. 1. 1.]\n",
            "[0. 0. 1. 0. 1. 0. 1. 1. 1. 1. 1. 1. 1.]\n"
          ]
        }
      ]
    },
    {
      "cell_type": "markdown",
      "source": [
        "<h2>shape() : 행과 열의 개수 출력하기"
      ],
      "metadata": {
        "id": "oIN5wpqBzVZ3"
      }
    },
    {
      "cell_type": "code",
      "source": [
        "print(train_target.shape)\n",
        "print(test_target.shape)\n",
        "\n",
        "print(train_input.shape)\n",
        "print(test_input.shape)"
      ],
      "metadata": {
        "colab": {
          "base_uri": "https://localhost:8080/"
        },
        "id": "SjBtW_0qzQeW",
        "outputId": "01e400ee-963b-4df5-c278-80c2d3280d63"
      },
      "execution_count": null,
      "outputs": [
        {
          "output_type": "stream",
          "name": "stdout",
          "text": [
            "(36,)\n",
            "(13,)\n",
            "(36, 2)\n",
            "(13, 2)\n"
          ]
        }
      ]
    },
    {
      "cell_type": "code",
      "source": [
        "from sklearn.neighbors import KNeighborsClassifier \n",
        "kn= KNeighborsClassifier()\n",
        "kn.fit(train_input, train_target)\n",
        "kn.score(test_input, test_target)"
      ],
      "metadata": {
        "colab": {
          "base_uri": "https://localhost:8080/"
        },
        "id": "hRYeNMhZzQhe",
        "outputId": "b832ab03-3d9d-4210-923c-d17713282a80"
      },
      "execution_count": null,
      "outputs": [
        {
          "output_type": "execute_result",
          "data": {
            "text/plain": [
              "1.0"
            ]
          },
          "metadata": {},
          "execution_count": 38
        }
      ]
    },
    {
      "cell_type": "code",
      "source": [
        "kn.predict([[25,150]])  "
      ],
      "metadata": {
        "colab": {
          "base_uri": "https://localhost:8080/"
        },
        "id": "xf38R7I0zQjO",
        "outputId": "7ada361b-9341-4c04-f784-8f0729cb61f4"
      },
      "execution_count": null,
      "outputs": [
        {
          "output_type": "execute_result",
          "data": {
            "text/plain": [
              "array([0.])"
            ]
          },
          "metadata": {},
          "execution_count": 39
        }
      ]
    },
    {
      "cell_type": "code",
      "source": [
        "#위에서 데이터를 넣고 출력할 때 어떤 데이터를 이웃으로 인식했는 지를 알려준다.\n",
        "\n",
        "distances,indexes=kn.kneighbors([[25,150]])\n",
        "print(distances,indexes)"
      ],
      "metadata": {
        "colab": {
          "base_uri": "https://localhost:8080/"
        },
        "id": "UZVCUhPi1leJ",
        "outputId": "06e2c6c7-4b18-4852-c71b-8e6a4e12be7d"
      },
      "execution_count": null,
      "outputs": [
        {
          "output_type": "stream",
          "name": "stdout",
          "text": [
            "[[ 92.00086956 130.48375378 130.73859415 138.32150953 138.39320793]] [[21 33 19 30  1]]\n"
          ]
        }
      ]
    },
    {
      "cell_type": "code",
      "source": [
        "import matplotlib.pyplot as plt\n",
        "\n",
        "plt.scatter(train_input[:,0],train_input[:,1])\n",
        "plt.scatter(25, 150, marker='^')\n",
        "# marker='^'는 산점도에 세모모양으로 나온다."
      ],
      "metadata": {
        "colab": {
          "base_uri": "https://localhost:8080/",
          "height": 283
        },
        "id": "rS5KpuLT1lg3",
        "outputId": "dce0b0ae-5331-4a7d-e3dd-981f2d2da280"
      },
      "execution_count": null,
      "outputs": [
        {
          "output_type": "execute_result",
          "data": {
            "text/plain": [
              "<matplotlib.collections.PathCollection at 0x7f1996220890>"
            ]
          },
          "metadata": {},
          "execution_count": 42
        },
        {
          "output_type": "display_data",
          "data": {
            "text/plain": [
              "<Figure size 432x288 with 1 Axes>"
            ],
            "image/png": "[encoded data removed]"
          },
          "metadata": {
            "needs_background": "light"
          }
        }
      ]
    }
  ]
}