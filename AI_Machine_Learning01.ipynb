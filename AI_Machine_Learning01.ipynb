{
  "nbformat": 4,
  "nbformat_minor": 0,
  "metadata": {
    "colab": {
      "provenance": [],
      "collapsed_sections": []
    },
    "kernelspec": {
      "name": "python3",
      "display_name": "Python 3"
    },
    "language_info": {
      "name": "python"
    }
  },
  "cells": [
    {
      "cell_type": "markdown",
      "source": [
        "<h1>AI 머신러닝 기초 01\n",
        "\n",
        "  * 산점도 그래프 그리기\n",
        "  * K-최근접 이웃 알고리즘\n",
        "  * 2차원 리스트로 만들기: ZIP()"
      ],
      "metadata": {
        "id": "kjzIilJ8ehym"
      }
    },
    {
      "cell_type": "markdown",
      "source": [
        "<h2>변수"
      ],
      "metadata": {
        "id": "dE8yLdc0eWtB"
      }
    },
    {
      "cell_type": "code",
      "source": [
        "# 변수에 값을 저장하고 출력한다\n",
        "\n",
        "fish_length=30000\n",
        "print(fish_length)"
      ],
      "metadata": {
        "colab": {
          "base_uri": "https://localhost:8080/"
        },
        "id": "wZNQCeZUUBzd",
        "outputId": "62f4ea92-12be-48c1-8d70-bb76e7b75d02"
      },
      "execution_count": 1,
      "outputs": [
        {
          "output_type": "stream",
          "name": "stdout",
          "text": [
            "30000\n"
          ]
        }
      ]
    },
    {
      "cell_type": "code",
      "source": [
        "# 조건문 if문, if문은 :(콜론)을 사용한다.\n",
        "\n",
        "# 30cm가 넘으면 도미라고 출력한다.\n",
        "if fish_length >=30:\n",
        "  print('도미')  #출력할 때 '도미' , \"도미\" 로 작은 따음표, 큰 따음표를 사용해도 된다."
      ],
      "metadata": {
        "colab": {
          "base_uri": "https://localhost:8080/"
        },
        "id": "A-NZDcbMUMYx",
        "outputId": "3b45356d-ebe5-4b3b-ace6-1f6f858f4859"
      },
      "execution_count": 3,
      "outputs": [
        {
          "output_type": "stream",
          "name": "stdout",
          "text": [
            "도미\n"
          ]
        }
      ]
    },
    {
      "cell_type": "markdown",
      "source": [
        "<h2>도미 데이터"
      ],
      "metadata": {
        "id": "e-wYCuPgU_5V"
      }
    },
    {
      "cell_type": "code",
      "source": [
        "#도미의 길이와 무게 데이터\n",
        "\n",
        "bream_length = [25.4, 26.3, 26.5, 29.0, 29.0, 29.7, 29.7, 30.0, 30.0, \n",
        "30.7, 31.0, 31.0, 31.5, 32.0, 32.0, 32.0, 33.0, 33.0, 33.5, 33.5, 34.0, \n",
        "34.0, 34.5, 35.0, 35.0, 35.0, 35.0, 36.0, 36.0, 37.0, 38.5, 38.5, 39.5, \n",
        "41.0, 41.0]\n",
        "\n",
        "bream_weight = [242.0, 290.0, 340.0, 363.0, 430.0, 450.0, 500.0, \n",
        "390.0, 450.0, 500.0, 475.0, 500.0, 500.0, 340.0, 600.0, 600.0, 700.0, \n",
        "700.0, 610.0, 650.0, 575.0, 685.0, 620.0, 680.0, 700.0, 725.0, 720.0,\n",
        " 714.0, 850.0, 1000.0, 920.0, 955.0, 925.0, 975.0, 950.0]"
      ],
      "metadata": {
        "id": "lbCfLTjwUMhx"
      },
      "execution_count": 4,
      "outputs": []
    },
    {
      "cell_type": "markdown",
      "source": [
        "<h2>산점도 그래프 그리기\n",
        "\n",
        "* 산점도는 두 변수의 상관 관계를 직교 좌표계의 평면에 점으로 표현하는 그래프이다.\n",
        "\n",
        "* matplotlib.pyplot 모듈의 scatter() 함수를 이용하면 산점도를 그릴 수 있다.\n",
        "\n",
        "* xlabel은 시각화된 그래프의 x축 레이블을 지정한다.\n",
        "* ylabel은 시각화된 그래프의 y축 레이블을 지정한다.\n",
        "* show()는 화면에 표시하는 기능한다."
      ],
      "metadata": {
        "id": "5XopZ0HqVp_S"
      }
    },
    {
      "cell_type": "code",
      "source": [
        "#도미의 길이, 무게 데이터로 산점도 그래프 그린다.\n",
        "import matplotlib.pyplot as plt \n",
        "\n",
        "plt.scatter(bream_length,bream_weight )\n",
        "plt.xlabel('lenght')\n",
        "plt.ylabel('weight')\n",
        "plt.show() "
      ],
      "metadata": {
        "colab": {
          "base_uri": "https://localhost:8080/",
          "height": 279
        },
        "id": "sE0o8JrJVSJ0",
        "outputId": "e7fcdb09-cf5c-4ce5-aa4e-1052d6b2b0c2"
      },
      "execution_count": 5,
      "outputs": [
        {
          "output_type": "display_data",
          "data": {
            "text/plain": [
              "<Figure size 432x288 with 1 Axes>"
            ],
            "image/png": "[encoded data removed]"
          },
          "metadata": {
            "needs_background": "light"
          }
        }
      ]
    },
    {
      "cell_type": "markdown",
      "source": [
        "<h2>빙어 데이터"
      ],
      "metadata": {
        "id": "Q2YwzTe-X-SK"
      }
    },
    {
      "cell_type": "code",
      "source": [
        "# 빙어의 길이와 무게 데이터\n",
        "smelt_length=[9.8, 10.5, 10.6, 11.0, 11.2, 11.3,11.8,11.8,12.0,12.2,12.4,13.0,14.3,15.0]\n",
        "smelt_weight=[6.7,5.7,0.9,7,9.8,8.7,10.0,9.9,9.8,12.2,13.4,12.2,19.7,19.9]"
      ],
      "metadata": {
        "id": "IJrlQ_ylYDpg"
      },
      "execution_count": 6,
      "outputs": []
    },
    {
      "cell_type": "code",
      "source": [
        "# 빙어의 데이터로 산점도를 그린다.\n",
        "plt.scatter(smelt_length,smelt_weight )\n",
        "plt.xlabel('lenght')\n",
        "plt.ylabel('weight')\n",
        "plt.show()"
      ],
      "metadata": {
        "colab": {
          "base_uri": "https://localhost:8080/",
          "height": 279
        },
        "id": "hhqv5qQXYJoz",
        "outputId": "0ae9524e-bcde-4d05-a057-5b13eb43fd4a"
      },
      "execution_count": 7,
      "outputs": [
        {
          "output_type": "display_data",
          "data": {
            "text/plain": [
              "<Figure size 432x288 with 1 Axes>"
            ],
            "image/png": "[encoded data removed]"
          },
          "metadata": {
            "needs_background": "light"
          }
        }
      ]
    },
    {
      "cell_type": "code",
      "source": [
        "# 도미, 빙어의 데이터를 한 개의 산점도에 그리기\n",
        "#두개의 데이터는 산점도 그래프에서 다른 색상의 점으로 구별되어 나온다.\n",
        "\n",
        "plt.scatter(bream_length, bream_weight)\n",
        "plt.scatter(smelt_length, smelt_weight)\n",
        "plt.xlabel('lenght')\n",
        "plt.ylabel('weight')\n",
        "plt.show()"
      ],
      "metadata": {
        "colab": {
          "base_uri": "https://localhost:8080/",
          "height": 279
        },
        "id": "Vz-oy8MjYQto",
        "outputId": "e50390f5-3ac9-47f4-ded6-65b5859be068"
      },
      "execution_count": 8,
      "outputs": [
        {
          "output_type": "display_data",
          "data": {
            "text/plain": [
              "<Figure size 432x288 with 1 Axes>"
            ],
            "image/png": "[encoded data removed]"
          },
          "metadata": {
            "needs_background": "light"
          }
        }
      ]
    },
    {
      "cell_type": "markdown",
      "source": [
        "<h2>K-최근접 이웃 알고리즘"
      ],
      "metadata": {
        "id": "8HfVoLe0YyuJ"
      }
    },
    {
      "cell_type": "code",
      "source": [
        "#k-최근접 이웃 알고리즘을 사용하기 위해 도미와 빙어 데이터를 합해준다.\n",
        "length=bream_length+smelt_length   \n",
        "weight=bream_weight+smelt_weight\n",
        "\n",
        "#합해진 데이터는 1차원 리스트 형태로 저장된다.\n",
        "#데이터의 결과를 보면 뒤에 도미 데이터 뒤에 빙어 데이터가 합쳐진 것을 볼 수 있다.\n",
        "print(length) \n",
        "print(weight)"
      ],
      "metadata": {
        "colab": {
          "base_uri": "https://localhost:8080/"
        },
        "id": "UPN77T5xY5Oh",
        "outputId": "fe2b4270-350f-406b-90c7-2cfb04f13ecc"
      },
      "execution_count": 10,
      "outputs": [
        {
          "output_type": "stream",
          "name": "stdout",
          "text": [
            "[25.4, 26.3, 26.5, 29.0, 29.0, 29.7, 29.7, 30.0, 30.0, 30.7, 31.0, 31.0, 31.5, 32.0, 32.0, 32.0, 33.0, 33.0, 33.5, 33.5, 34.0, 34.0, 34.5, 35.0, 35.0, 35.0, 35.0, 36.0, 36.0, 37.0, 38.5, 38.5, 39.5, 41.0, 41.0, 9.8, 10.5, 10.6, 11.0, 11.2, 11.3, 11.8, 11.8, 12.0, 12.2, 12.4, 13.0, 14.3, 15.0]\n",
            "[242.0, 290.0, 340.0, 363.0, 430.0, 450.0, 500.0, 390.0, 450.0, 500.0, 475.0, 500.0, 500.0, 340.0, 600.0, 600.0, 700.0, 700.0, 610.0, 650.0, 575.0, 685.0, 620.0, 680.0, 700.0, 725.0, 720.0, 714.0, 850.0, 1000.0, 920.0, 955.0, 925.0, 975.0, 950.0, 6.7, 5.7, 0.9, 7, 9.8, 8.7, 10.0, 9.9, 9.8, 12.2, 13.4, 12.2, 19.7, 19.9]\n"
          ]
        }
      ]
    },
    {
      "cell_type": "code",
      "source": [
        "#합쳐진 데이터를 산점도로 출력한다.\n",
        "plt.scatter(length, weight)\n",
        "plt.xlabel('length')\n",
        "plt.ylabel('weigth')\n",
        "plt.show()"
      ],
      "metadata": {
        "colab": {
          "base_uri": "https://localhost:8080/",
          "height": 279
        },
        "id": "WUkU_5OXaDmY",
        "outputId": "35edf84b-cf2f-4339-98dd-a358720e275e"
      },
      "execution_count": 12,
      "outputs": [
        {
          "output_type": "display_data",
          "data": {
            "text/plain": [
              "<Figure size 432x288 with 1 Axes>"
            ],
            "image/png": "[encoded data removed]"
          },
          "metadata": {
            "needs_background": "light"
          }
        }
      ]
    },
    {
      "cell_type": "markdown",
      "source": [
        "<h2>2차원 리스트로 만들기:   ZIP()"
      ],
      "metadata": {
        "id": "1zYFtGnOaTA0"
      }
    },
    {
      "cell_type": "code",
      "source": [
        "#꺼내온 정보는 각각 l과 w에 저장하고, 리스트에 순서대로 [l,w]<-형태로 저장한다.\n",
        "#[1번 생선길이,1번생선무게], [2번 생선길이, 2번생선무게]...,[49번생선길이, 49번 생선무게] 이러한 형태로 저장된다.\n",
        "\n",
        "fish_data=[[l,w] for l,w in zip(length,weight)]\n",
        "print(fish_data)"
      ],
      "metadata": {
        "colab": {
          "base_uri": "https://localhost:8080/"
        },
        "id": "h79MHhhdaQxo",
        "outputId": "2a0abfd9-e3f2-4136-8382-6924bfdf37c7"
      },
      "execution_count": 14,
      "outputs": [
        {
          "output_type": "stream",
          "name": "stdout",
          "text": [
            "[[25.4, 242.0], [26.3, 290.0], [26.5, 340.0], [29.0, 363.0], [29.0, 430.0], [29.7, 450.0], [29.7, 500.0], [30.0, 390.0], [30.0, 450.0], [30.7, 500.0], [31.0, 475.0], [31.0, 500.0], [31.5, 500.0], [32.0, 340.0], [32.0, 600.0], [32.0, 600.0], [33.0, 700.0], [33.0, 700.0], [33.5, 610.0], [33.5, 650.0], [34.0, 575.0], [34.0, 685.0], [34.5, 620.0], [35.0, 680.0], [35.0, 700.0], [35.0, 725.0], [35.0, 720.0], [36.0, 714.0], [36.0, 850.0], [37.0, 1000.0], [38.5, 920.0], [38.5, 955.0], [39.5, 925.0], [41.0, 975.0], [41.0, 950.0], [9.8, 6.7], [10.5, 5.7], [10.6, 0.9], [11.0, 7], [11.2, 9.8], [11.3, 8.7], [11.8, 10.0], [11.8, 9.9], [12.0, 9.8], [12.2, 12.2], [12.4, 13.4], [13.0, 12.2], [14.3, 19.7], [15.0, 19.9]]\n"
          ]
        }
      ]
    },
    {
      "cell_type": "code",
      "source": [
        "# 도미는 1, 빙어는 0으로 정답 리스트를 만들어준다.\n",
        "#도미의 35개의 데이터를 1, 빙어의 14개 데이터를 0으로 해준다.\n",
        "\n",
        "fish_target= [1] * 35 + [0] * 14\n",
        "print(fish_target)"
      ],
      "metadata": {
        "colab": {
          "base_uri": "https://localhost:8080/"
        },
        "id": "a9iscy6ra4lz",
        "outputId": "6ea0a471-912a-435d-8ee8-f6718611e21c"
      },
      "execution_count": 16,
      "outputs": [
        {
          "output_type": "stream",
          "name": "stdout",
          "text": [
            "[1, 1, 1, 1, 1, 1, 1, 1, 1, 1, 1, 1, 1, 1, 1, 1, 1, 1, 1, 1, 1, 1, 1, 1, 1, 1, 1, 1, 1, 1, 1, 1, 1, 1, 1, 0, 0, 0, 0, 0, 0, 0, 0, 0, 0, 0, 0, 0, 0]\n"
          ]
        }
      ]
    },
    {
      "cell_type": "markdown",
      "source": [
        "<h2>k-최근접 이웃 알고리즘을 구현한 클래스 KNeighborsClassifier"
      ],
      "metadata": {
        "id": "UNHT6FLqb2Ne"
      }
    },
    {
      "cell_type": "code",
      "source": [
        "#사이킷런 메세지에 k-최근점 이웃 알고리즘을 구현한 클래스이다.\n",
        "from sklearn.neighbors import KNeighborsClassifier\n",
        "kn= KNeighborsClassifier() #글의 길이가 길어서 kn으로 줄여서 사용한다."
      ],
      "metadata": {
        "id": "Wf2qhhZMb40H"
      },
      "execution_count": 18,
      "outputs": []
    },
    {
      "cell_type": "code",
      "source": [
        "# fit()메서드를 사용하여 훈련데이터(fish_data), 정답데이터(fish_target)를 훈련시킨다.\n",
        "\n",
        "kn.fit(fish_data, fish_target)"
      ],
      "metadata": {
        "colab": {
          "base_uri": "https://localhost:8080/"
        },
        "id": "Av_52Zz2cHJ1",
        "outputId": "dd11d139-a702-4af4-9c84-b65ef5395a5f"
      },
      "execution_count": 19,
      "outputs": [
        {
          "output_type": "execute_result",
          "data": {
            "text/plain": [
              "KNeighborsClassifier()"
            ]
          },
          "metadata": {},
          "execution_count": 19
        }
      ]
    },
    {
      "cell_type": "code",
      "source": [
        "#score를 사용하여 훈련이 잘 되었는 지 평가한다.(=정확도 구하기)\n",
        "#결과가 1.0으로 정확도가 100%라는 의미이다.\n",
        "\n",
        "kn.score(fish_data, fish_target) "
      ],
      "metadata": {
        "colab": {
          "base_uri": "https://localhost:8080/"
        },
        "id": "g7vb_HDtdD3I",
        "outputId": "fc0f3017-e39a-435f-8692-d60ab33071e5"
      },
      "execution_count": 20,
      "outputs": [
        {
          "output_type": "execute_result",
          "data": {
            "text/plain": [
              "1.0"
            ]
          },
          "metadata": {},
          "execution_count": 20
        }
      ]
    },
    {
      "cell_type": "code",
      "source": [
        "#predict를 사용하여 30cm에 600g인 물고기가 도미인지 빙어인지 답을 알려준다.\n",
        "\n",
        "kn.predict([[30,600]])\n",
        "#결과가 array([1])로 1인 도미라는 의미이다."
      ],
      "metadata": {
        "colab": {
          "base_uri": "https://localhost:8080/"
        },
        "id": "apT_L7BId1KD",
        "outputId": "b1a0a087-24cc-49f9-981b-dbe3066820be"
      },
      "execution_count": 22,
      "outputs": [
        {
          "output_type": "execute_result",
          "data": {
            "text/plain": [
              "array([1])"
            ]
          },
          "metadata": {},
          "execution_count": 22
        }
      ]
    }
  ]
}